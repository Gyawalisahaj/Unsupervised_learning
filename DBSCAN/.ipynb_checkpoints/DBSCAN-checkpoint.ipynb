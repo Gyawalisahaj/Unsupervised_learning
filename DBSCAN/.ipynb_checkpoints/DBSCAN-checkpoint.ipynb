{
 "cells": [
  {
   "cell_type": "code",
   "execution_count": 1,
   "id": "6ee71732-b5d5-4725-b992-2ad248c85425",
   "metadata": {},
   "outputs": [],
   "source": [
    "import numpy as np\n",
    "import matplotlib.pyplot as plt\n",
    "import seaborn as sns"
   ]
  },
  {
   "cell_type": "code",
   "execution_count": 3,
   "id": "20729681-bc40-4140-9338-c734113bbbeb",
   "metadata": {},
   "outputs": [],
   "source": [
    "def euclidean_distance(point1, point2):\n",
    "    return np.linalg.norm(point1 - point2)\n",
    "\n",
    "def find_neighbours(data, point_index, eps):\n",
    "    neighbours = []\n",
    "    for i, point in enumerate(data):\n",
    "        if euclidean_distance(data[point_index], point) < eps and i != point_index:\n",
    "            neighbours.append(i)\n",
    "    return neighbours"
   ]
  },
  {
   "cell_type": "code",
   "execution_count": 4,
   "id": "f9315331-b801-4412-8515-af0ce2d56e25",
   "metadata": {},
   "outputs": [],
   "source": [
    "def expand_cluster(data, label, point_index, neighbours, cluster_id, eps, min_samples):\n",
    "    labels[point_index] = cluster_id\n",
    "    for neighbour in neighbours:\n",
    "        if labels[neighbour]== 0:\n",
    "            labels[neighbour] == cluster_id\n",
    "            new_neighbours = find_neighbours(data, neighbour, eps)\n",
    "            if len(new_neighbours) >= min_samples:\n",
    "                neighbours.extend(new_neighbours)\n",
    "        elif labels[neighbour] == -1:\n",
    "            labels[neighbour] = cluster_id\n",
    "            "
   ]
  },
  {
   "cell_type": "code",
   "execution_count": null,
   "id": "2612ef88-c165-4caf-958a-34183b738e4c",
   "metadata": {},
   "outputs": [],
   "source": []
  }
 ],
 "metadata": {
  "kernelspec": {
   "display_name": "Python 3 (ipykernel)",
   "language": "python",
   "name": "python3"
  },
  "language_info": {
   "codemirror_mode": {
    "name": "ipython",
    "version": 3
   },
   "file_extension": ".py",
   "mimetype": "text/x-python",
   "name": "python",
   "nbconvert_exporter": "python",
   "pygments_lexer": "ipython3",
   "version": "3.13.5"
  }
 },
 "nbformat": 4,
 "nbformat_minor": 5
}
